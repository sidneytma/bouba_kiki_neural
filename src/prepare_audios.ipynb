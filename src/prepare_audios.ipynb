{
 "cells": [
  {
   "cell_type": "markdown",
   "id": "ddfd730b",
   "metadata": {},
   "source": [
    "# Preparing audios"
   ]
  },
  {
   "cell_type": "markdown",
   "id": "6647f64a",
   "metadata": {},
   "source": [
    "## Split audio into segments"
   ]
  },
  {
   "cell_type": "code",
   "execution_count": null,
   "id": "4fd94bc5",
   "metadata": {},
   "outputs": [],
   "source": [
    "from pydub import AudioSegment\n",
    "import os\n",
    "\n",
    "input_file = \"data/audio/bouba_raw.wav\"\n",
    "output_folder = \"data/audio/bouba_segments/\"\n",
    "\n",
    "os.makedirs(output_folder, exist_ok=True)\n",
    "\n",
    "audio = AudioSegment.from_wav(input_file)\n",
    "segment_length = 1000\n",
    "\n",
    "for i in range(60):\n",
    "    start_time = i * segment_length\n",
    "    end_time = (i + 1) * segment_length\n",
    "\n",
    "    segment = audio[start_time:end_time]\n",
    "    segment.export(f\"{output_folder}bouba_{i+1:02d}.wav\", format=\"wav\")"
   ]
  },
  {
   "cell_type": "code",
   "execution_count": null,
   "id": "b7d6ad34",
   "metadata": {},
   "outputs": [],
   "source": [
    "input_file = \"data/audio/kiki_raw.wav\"\n",
    "output_folder = \"data/audio/kiki_segments/\"\n",
    "\n",
    "os.makedirs(output_folder, exist_ok=True)\n",
    "\n",
    "audio = AudioSegment.from_wav(input_file)\n",
    "segment_length = 1000  # milliseconds\n",
    "\n",
    "for i in range(60):\n",
    "    start_time = i * segment_length\n",
    "    end_time = (i + 1) * segment_length\n",
    "\n",
    "    segment = audio[start_time:end_time]\n",
    "    segment.export(f\"{output_folder}kiki_{i+1:02d}.wav\", format=\"wav\")"
   ]
  },
  {
   "cell_type": "markdown",
   "id": "ad6618f3",
   "metadata": {},
   "source": [
    "## Augment audio data"
   ]
  },
  {
   "cell_type": "code",
   "execution_count": 2,
   "id": "d0154103",
   "metadata": {},
   "outputs": [],
   "source": [
    "import os\n",
    "import numpy as np\n",
    "import librosa\n",
    "import librosa.display\n",
    "import soundfile as sf\n",
    "from pydub import AudioSegment\n",
    "from audiomentations import (\n",
    "    Compose, TimeStretch, PitchShift, AddGaussianNoise, Shift, Gain\n",
    ")\n",
    "\n",
    "from tqdm import tqdm\n",
    "\n",
    "augment = Compose([\n",
    "    Shift(min_shift=-0.1, max_shift=0.2, p=0.5),  # Time-Shifting\n",
    "    TimeStretch(min_rate=0.9, max_rate=1.1, p=0.5),  # Time-Stretching\n",
    "    PitchShift(min_semitones=-3, max_semitones=3, p=0.5),  # PSOLA pitch shifting\n",
    "    AddGaussianNoise(min_amplitude=0.0001, max_amplitude=0.01, p=0.5),  # Noise\n",
    "    Gain(min_gain_db=-1, max_gain_db=1, p=0.5)  # Volume increase/decrease\n",
    "])\n"
   ]
  },
  {
   "cell_type": "code",
   "execution_count": 3,
   "id": "981d700d",
   "metadata": {},
   "outputs": [
    {
     "name": "stderr",
     "output_type": "stream",
     "text": [
      " 35%|███████████████                            | 21/60 [00:40<01:11,  1.83s/it]/var/folders/4k/z019px4j0t7csyx6sb1stb_m0000gn/T/ipykernel_34695/1598298540.py:17: UserWarning: PySoundFile failed. Trying audioread instead.\n",
      "  y, sr = librosa.load(file_path, sr=22050)\n",
      "/Users/sidneyma/anaconda3/lib/python3.11/site-packages/librosa/core/audio.py:184: FutureWarning: librosa.core.audio.__audioread_load\n",
      "\tDeprecated as of librosa version 0.10.0.\n",
      "\tIt will be removed in librosa version 1.0.\n",
      "  y, sr_native = __audioread_load(path, offset, duration, dtype)\n",
      "100%|███████████████████████████████████████████| 60/60 [01:46<00:00,  1.77s/it]\n",
      "100%|███████████████████████████████████████████| 60/60 [01:46<00:00,  1.77s/it]\n"
     ]
    }
   ],
   "source": [
    "bouba_dir = \"data/audio/bouba_segments/\"\n",
    "kiki_dir = \"data/audio/kiki_segments/\"\n",
    "augmented_dir = \"data/audio/aug_audio/\"\n",
    "\n",
    "os.makedirs(augmented_dir, exist_ok=True)\n",
    "os.makedirs(os.path.join(augmented_dir, \"bouba\"), exist_ok=True)\n",
    "os.makedirs(os.path.join(augmented_dir, \"kiki\"), exist_ok=True)\n",
    "\n",
    "target_samples = 3000\n",
    "original_samples = 120  # 60 Bouba + 60 Kiki\n",
    "needed_augmentations = target_samples // original_samples\n",
    "\n",
    "def augment_and_save(file_path, output_path, num_augmentations=25):\n",
    "    \"\"\"Augments an audio file multiple times and saves the new versions.\"\"\"\n",
    "    y, sr = librosa.load(file_path, sr=22050)\n",
    "    \n",
    "    for i in range(num_augmentations):\n",
    "        y_aug = augment(samples=y, sample_rate=sr)\n",
    "        output_file = os.path.join(output_path, f\"{os.path.basename(file_path).split('.')[0]}_aug{i}.wav\")\n",
    "        sf.write(output_file, y_aug, sr)\n",
    "\n",
    "# Process Bouba\n",
    "for file in tqdm(os.listdir(bouba_dir)):\n",
    "    if file.endswith(\".wav\"):\n",
    "        augment_and_save(os.path.join(bouba_dir, file), os.path.join(augmented_dir, \"bouba\"), num_augmentations=needed_augmentations)\n",
    "\n",
    "# Process Kiki\n",
    "for file in tqdm(os.listdir(kiki_dir)):\n",
    "    if file.endswith(\".wav\"):\n",
    "        augment_and_save(os.path.join(kiki_dir, file), os.path.join(augmented_dir, \"kiki\"), num_augmentations=needed_augmentations)\n"
   ]
  }
 ],
 "metadata": {
  "kernelspec": {
   "display_name": "Python 3 (ipykernel)",
   "language": "python",
   "name": "python3"
  },
  "language_info": {
   "codemirror_mode": {
    "name": "ipython",
    "version": 3
   },
   "file_extension": ".py",
   "mimetype": "text/x-python",
   "name": "python",
   "nbconvert_exporter": "python",
   "pygments_lexer": "ipython3",
   "version": "3.11.4"
  }
 },
 "nbformat": 4,
 "nbformat_minor": 5
}
